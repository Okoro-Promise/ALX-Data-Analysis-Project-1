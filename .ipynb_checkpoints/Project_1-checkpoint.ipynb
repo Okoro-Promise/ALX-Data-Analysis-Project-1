{
 "cells": [
  {
   "cell_type": "markdown",
   "id": "a98f5ae2-3c72-4184-bc3e-746b5ed82d20",
   "metadata": {},
   "source": [
    "# **Project: No Show Appointments Data Analysis**\n",
    "\n",
    "## Table of contents\n",
    "<ul>\n",
    "<li><a href=\"#intro\">Introduction</a></li>\n",
    "<li><a href=\"#wrangling\">Data Wrangling</a></li>\n",
    "<li><a href=\"#eda\">Exploratory Data Analysis</a></li>\n",
    "<li><a href=\"#conclusions\">Conclusions</a></li>\n",
    "</ul>"
   ]
  },
  {
   "cell_type": "markdown",
   "id": "01daeeee-7420-4626-b05c-dfb8a422b2e2",
   "metadata": {},
   "source": [
    "<a id='intro'></a>\n",
    "## **Introduction**\n",
    "### Dataset Description\n",
    "This dataset collects information from over 100k medical appointments in Brazil and is focused on the question of whether or not patients show up for their appointment. A number of characteristics about the patient are included in each row.\n",
    "\n",
    "*\"ScheduledDay\"* tells us on what day the patient set up their appointment.\n",
    "\n",
    "*\"Neighborhood\"* indicates the location of the hospital.\n",
    "\n",
    "*Scholarship* indicates whether or not the patient is enrolled in Brasilian welfare program [Bolsa Família](https://en.wikipedia.org/wiki/Bolsa_Fam%C3%ADlia)"
   ]
  },
  {
   "cell_type": "markdown",
   "id": "446f7004-e5d3-4e20-9333-c6c00f49e173",
   "metadata": {},
   "source": [
    "### Question(s) for Analysis\n",
    "$1$. What neighourhoods have the most and least proportion of patients that showed up for appointment?\n",
    "\n",
    "$2$. Was SMS recieved a major factor to patients showing up or not showing up for their appointment?\n",
    "\n",
    "$3$. Did Patients who ae addicted to Alcohol miss their appointment more than others?"
   ]
  },
  {
   "cell_type": "markdown",
   "id": "16e8e774-956e-427c-857a-eca9f5df4d64",
   "metadata": {},
   "source": [
    "## Import packages and dataset\n",
    "The first part of any data analysis project is preparing my data, which means making sure it is in the right place and format for me to conduct my analysis. The first step of any data preparation is importing the packages and raw data and cleaning it."
   ]
  },
  {
   "cell_type": "code",
   "execution_count": 66,
   "id": "e875bbe8-0974-416c-9fd6-8dd8bc1f09c2",
   "metadata": {},
   "outputs": [],
   "source": [
    "#Import packages for project \n",
    "import pandas as pd\n",
    "import numpy as np\n",
    "import matplotlib.pyplot as plt\n",
    "import seaborn as sns"
   ]
  },
  {
   "cell_type": "code",
   "execution_count": 67,
   "id": "da4ca35b-7149-4531-a239-975b40d5e271",
   "metadata": {},
   "outputs": [],
   "source": [
    "#Import Raw csv data into dataframe \n",
    "df = pd.read_csv(\"Downloads/noshowappointments-kagglev2-may-2016.csv\")"
   ]
  },
  {
   "cell_type": "code",
   "execution_count": 68,
   "id": "feaf1a4d-c937-4f66-bdb3-757afbcbbfb9",
   "metadata": {},
   "outputs": [
    {
     "data": {
      "text/html": [
       "<div>\n",
       "<style scoped>\n",
       "    .dataframe tbody tr th:only-of-type {\n",
       "        vertical-align: middle;\n",
       "    }\n",
       "\n",
       "    .dataframe tbody tr th {\n",
       "        vertical-align: top;\n",
       "    }\n",
       "\n",
       "    .dataframe thead th {\n",
       "        text-align: right;\n",
       "    }\n",
       "</style>\n",
       "<table border=\"1\" class=\"dataframe\">\n",
       "  <thead>\n",
       "    <tr style=\"text-align: right;\">\n",
       "      <th></th>\n",
       "      <th>PatientId</th>\n",
       "      <th>AppointmentID</th>\n",
       "      <th>Gender</th>\n",
       "      <th>ScheduledDay</th>\n",
       "      <th>AppointmentDay</th>\n",
       "      <th>Age</th>\n",
       "      <th>Neighbourhood</th>\n",
       "      <th>Scholarship</th>\n",
       "      <th>Hipertension</th>\n",
       "      <th>Diabetes</th>\n",
       "      <th>Alcoholism</th>\n",
       "      <th>Handcap</th>\n",
       "      <th>SMS_received</th>\n",
       "      <th>No-show</th>\n",
       "    </tr>\n",
       "  </thead>\n",
       "  <tbody>\n",
       "    <tr>\n",
       "      <th>0</th>\n",
       "      <td>2.987250e+13</td>\n",
       "      <td>5642903</td>\n",
       "      <td>F</td>\n",
       "      <td>2016-04-29T18:38:08Z</td>\n",
       "      <td>2016-04-29T00:00:00Z</td>\n",
       "      <td>62</td>\n",
       "      <td>JARDIM DA PENHA</td>\n",
       "      <td>0</td>\n",
       "      <td>1</td>\n",
       "      <td>0</td>\n",
       "      <td>0</td>\n",
       "      <td>0</td>\n",
       "      <td>0</td>\n",
       "      <td>No</td>\n",
       "    </tr>\n",
       "    <tr>\n",
       "      <th>1</th>\n",
       "      <td>5.589978e+14</td>\n",
       "      <td>5642503</td>\n",
       "      <td>M</td>\n",
       "      <td>2016-04-29T16:08:27Z</td>\n",
       "      <td>2016-04-29T00:00:00Z</td>\n",
       "      <td>56</td>\n",
       "      <td>JARDIM DA PENHA</td>\n",
       "      <td>0</td>\n",
       "      <td>0</td>\n",
       "      <td>0</td>\n",
       "      <td>0</td>\n",
       "      <td>0</td>\n",
       "      <td>0</td>\n",
       "      <td>No</td>\n",
       "    </tr>\n",
       "    <tr>\n",
       "      <th>2</th>\n",
       "      <td>4.262962e+12</td>\n",
       "      <td>5642549</td>\n",
       "      <td>F</td>\n",
       "      <td>2016-04-29T16:19:04Z</td>\n",
       "      <td>2016-04-29T00:00:00Z</td>\n",
       "      <td>62</td>\n",
       "      <td>MATA DA PRAIA</td>\n",
       "      <td>0</td>\n",
       "      <td>0</td>\n",
       "      <td>0</td>\n",
       "      <td>0</td>\n",
       "      <td>0</td>\n",
       "      <td>0</td>\n",
       "      <td>No</td>\n",
       "    </tr>\n",
       "    <tr>\n",
       "      <th>3</th>\n",
       "      <td>8.679512e+11</td>\n",
       "      <td>5642828</td>\n",
       "      <td>F</td>\n",
       "      <td>2016-04-29T17:29:31Z</td>\n",
       "      <td>2016-04-29T00:00:00Z</td>\n",
       "      <td>8</td>\n",
       "      <td>PONTAL DE CAMBURI</td>\n",
       "      <td>0</td>\n",
       "      <td>0</td>\n",
       "      <td>0</td>\n",
       "      <td>0</td>\n",
       "      <td>0</td>\n",
       "      <td>0</td>\n",
       "      <td>No</td>\n",
       "    </tr>\n",
       "    <tr>\n",
       "      <th>4</th>\n",
       "      <td>8.841186e+12</td>\n",
       "      <td>5642494</td>\n",
       "      <td>F</td>\n",
       "      <td>2016-04-29T16:07:23Z</td>\n",
       "      <td>2016-04-29T00:00:00Z</td>\n",
       "      <td>56</td>\n",
       "      <td>JARDIM DA PENHA</td>\n",
       "      <td>0</td>\n",
       "      <td>1</td>\n",
       "      <td>1</td>\n",
       "      <td>0</td>\n",
       "      <td>0</td>\n",
       "      <td>0</td>\n",
       "      <td>No</td>\n",
       "    </tr>\n",
       "  </tbody>\n",
       "</table>\n",
       "</div>"
      ],
      "text/plain": [
       "      PatientId  AppointmentID Gender          ScheduledDay  \\\n",
       "0  2.987250e+13        5642903      F  2016-04-29T18:38:08Z   \n",
       "1  5.589978e+14        5642503      M  2016-04-29T16:08:27Z   \n",
       "2  4.262962e+12        5642549      F  2016-04-29T16:19:04Z   \n",
       "3  8.679512e+11        5642828      F  2016-04-29T17:29:31Z   \n",
       "4  8.841186e+12        5642494      F  2016-04-29T16:07:23Z   \n",
       "\n",
       "         AppointmentDay  Age      Neighbourhood  Scholarship  Hipertension  \\\n",
       "0  2016-04-29T00:00:00Z   62    JARDIM DA PENHA            0             1   \n",
       "1  2016-04-29T00:00:00Z   56    JARDIM DA PENHA            0             0   \n",
       "2  2016-04-29T00:00:00Z   62      MATA DA PRAIA            0             0   \n",
       "3  2016-04-29T00:00:00Z    8  PONTAL DE CAMBURI            0             0   \n",
       "4  2016-04-29T00:00:00Z   56    JARDIM DA PENHA            0             1   \n",
       "\n",
       "   Diabetes  Alcoholism  Handcap  SMS_received No-show  \n",
       "0         0           0        0             0      No  \n",
       "1         0           0        0             0      No  \n",
       "2         0           0        0             0      No  \n",
       "3         0           0        0             0      No  \n",
       "4         1           0        0             0      No  "
      ]
     },
     "execution_count": 68,
     "metadata": {},
     "output_type": "execute_result"
    }
   ],
   "source": [
    "df.head()"
   ]
  },
  {
   "cell_type": "markdown",
   "id": "43fddf1b-1ab5-49e1-9576-001df1f44845",
   "metadata": {},
   "source": [
    "<a id='wrangling'></a>\n",
    "## **Data Wrangling**\n",
    "### General Observations \n",
    "Now that I have my data in a DataFrame, it's time to inspect it to see if they need any cleaning."
   ]
  },
  {
   "cell_type": "code",
   "execution_count": 69,
   "id": "a3237245-9158-4ead-8162-e717bdc0c3e5",
   "metadata": {},
   "outputs": [
    {
     "data": {
      "text/plain": [
       "(110527, 14)"
      ]
     },
     "execution_count": 69,
     "metadata": {},
     "output_type": "execute_result"
    }
   ],
   "source": [
    "#Check for number of obsevrations and features \n",
    "df.shape"
   ]
  },
  {
   "cell_type": "markdown",
   "id": "ad8241c2-609f-41bc-8a09-35e07a88f437",
   "metadata": {},
   "source": [
    "Then use the **Info** method to check the data types and number of missing values for each column."
   ]
  },
  {
   "cell_type": "code",
   "execution_count": 70,
   "id": "b1d79da7-8512-482e-853c-4140baeb688a",
   "metadata": {},
   "outputs": [
    {
     "name": "stdout",
     "output_type": "stream",
     "text": [
      "<class 'pandas.core.frame.DataFrame'>\n",
      "RangeIndex: 110527 entries, 0 to 110526\n",
      "Data columns (total 14 columns):\n",
      " #   Column          Non-Null Count   Dtype  \n",
      "---  ------          --------------   -----  \n",
      " 0   PatientId       110527 non-null  float64\n",
      " 1   AppointmentID   110527 non-null  int64  \n",
      " 2   Gender          110527 non-null  object \n",
      " 3   ScheduledDay    110527 non-null  object \n",
      " 4   AppointmentDay  110527 non-null  object \n",
      " 5   Age             110527 non-null  int64  \n",
      " 6   Neighbourhood   110527 non-null  object \n",
      " 7   Scholarship     110527 non-null  int64  \n",
      " 8   Hipertension    110527 non-null  int64  \n",
      " 9   Diabetes        110527 non-null  int64  \n",
      " 10  Alcoholism      110527 non-null  int64  \n",
      " 11  Handcap         110527 non-null  int64  \n",
      " 12  SMS_received    110527 non-null  int64  \n",
      " 13  No-show         110527 non-null  object \n",
      "dtypes: float64(1), int64(8), object(5)\n",
      "memory usage: 11.8+ MB\n"
     ]
    }
   ],
   "source": [
    "df.info()"
   ]
  },
  {
   "cell_type": "markdown",
   "id": "df9836ec-72d9-4e21-8853-61d54067010a",
   "metadata": {},
   "source": [
    "### Data Cleaning\n",
    "It looks like there are a couple of problems in this DataFrame that you need to solve. First,I can see that there are no missing values but the column names would need to be all in lowercase and properly spelled and spaced."
   ]
  },
  {
   "cell_type": "code",
   "execution_count": 71,
   "id": "31de340d-e8b6-4943-a353-34d1503d5d83",
   "metadata": {
    "tags": []
   },
   "outputs": [
    {
     "data": {
      "text/html": [
       "<div>\n",
       "<style scoped>\n",
       "    .dataframe tbody tr th:only-of-type {\n",
       "        vertical-align: middle;\n",
       "    }\n",
       "\n",
       "    .dataframe tbody tr th {\n",
       "        vertical-align: top;\n",
       "    }\n",
       "\n",
       "    .dataframe thead th {\n",
       "        text-align: right;\n",
       "    }\n",
       "</style>\n",
       "<table border=\"1\" class=\"dataframe\">\n",
       "  <thead>\n",
       "    <tr style=\"text-align: right;\">\n",
       "      <th></th>\n",
       "      <th>patient_id</th>\n",
       "      <th>appointment_id</th>\n",
       "      <th>gender</th>\n",
       "      <th>scheduled_day</th>\n",
       "      <th>appointment_day</th>\n",
       "      <th>age</th>\n",
       "      <th>neighbourhood</th>\n",
       "      <th>scholarship</th>\n",
       "      <th>hypertension</th>\n",
       "      <th>diabetes</th>\n",
       "      <th>alcoholism</th>\n",
       "      <th>handicap</th>\n",
       "      <th>sms_received</th>\n",
       "      <th>no_show</th>\n",
       "    </tr>\n",
       "  </thead>\n",
       "  <tbody>\n",
       "    <tr>\n",
       "      <th>0</th>\n",
       "      <td>2.987250e+13</td>\n",
       "      <td>5642903</td>\n",
       "      <td>F</td>\n",
       "      <td>2016-04-29T18:38:08Z</td>\n",
       "      <td>2016-04-29T00:00:00Z</td>\n",
       "      <td>62</td>\n",
       "      <td>JARDIM DA PENHA</td>\n",
       "      <td>0</td>\n",
       "      <td>1</td>\n",
       "      <td>0</td>\n",
       "      <td>0</td>\n",
       "      <td>0</td>\n",
       "      <td>0</td>\n",
       "      <td>No</td>\n",
       "    </tr>\n",
       "    <tr>\n",
       "      <th>1</th>\n",
       "      <td>5.589978e+14</td>\n",
       "      <td>5642503</td>\n",
       "      <td>M</td>\n",
       "      <td>2016-04-29T16:08:27Z</td>\n",
       "      <td>2016-04-29T00:00:00Z</td>\n",
       "      <td>56</td>\n",
       "      <td>JARDIM DA PENHA</td>\n",
       "      <td>0</td>\n",
       "      <td>0</td>\n",
       "      <td>0</td>\n",
       "      <td>0</td>\n",
       "      <td>0</td>\n",
       "      <td>0</td>\n",
       "      <td>No</td>\n",
       "    </tr>\n",
       "    <tr>\n",
       "      <th>2</th>\n",
       "      <td>4.262962e+12</td>\n",
       "      <td>5642549</td>\n",
       "      <td>F</td>\n",
       "      <td>2016-04-29T16:19:04Z</td>\n",
       "      <td>2016-04-29T00:00:00Z</td>\n",
       "      <td>62</td>\n",
       "      <td>MATA DA PRAIA</td>\n",
       "      <td>0</td>\n",
       "      <td>0</td>\n",
       "      <td>0</td>\n",
       "      <td>0</td>\n",
       "      <td>0</td>\n",
       "      <td>0</td>\n",
       "      <td>No</td>\n",
       "    </tr>\n",
       "    <tr>\n",
       "      <th>3</th>\n",
       "      <td>8.679512e+11</td>\n",
       "      <td>5642828</td>\n",
       "      <td>F</td>\n",
       "      <td>2016-04-29T17:29:31Z</td>\n",
       "      <td>2016-04-29T00:00:00Z</td>\n",
       "      <td>8</td>\n",
       "      <td>PONTAL DE CAMBURI</td>\n",
       "      <td>0</td>\n",
       "      <td>0</td>\n",
       "      <td>0</td>\n",
       "      <td>0</td>\n",
       "      <td>0</td>\n",
       "      <td>0</td>\n",
       "      <td>No</td>\n",
       "    </tr>\n",
       "    <tr>\n",
       "      <th>4</th>\n",
       "      <td>8.841186e+12</td>\n",
       "      <td>5642494</td>\n",
       "      <td>F</td>\n",
       "      <td>2016-04-29T16:07:23Z</td>\n",
       "      <td>2016-04-29T00:00:00Z</td>\n",
       "      <td>56</td>\n",
       "      <td>JARDIM DA PENHA</td>\n",
       "      <td>0</td>\n",
       "      <td>1</td>\n",
       "      <td>1</td>\n",
       "      <td>0</td>\n",
       "      <td>0</td>\n",
       "      <td>0</td>\n",
       "      <td>No</td>\n",
       "    </tr>\n",
       "  </tbody>\n",
       "</table>\n",
       "</div>"
      ],
      "text/plain": [
       "     patient_id  appointment_id gender         scheduled_day  \\\n",
       "0  2.987250e+13         5642903      F  2016-04-29T18:38:08Z   \n",
       "1  5.589978e+14         5642503      M  2016-04-29T16:08:27Z   \n",
       "2  4.262962e+12         5642549      F  2016-04-29T16:19:04Z   \n",
       "3  8.679512e+11         5642828      F  2016-04-29T17:29:31Z   \n",
       "4  8.841186e+12         5642494      F  2016-04-29T16:07:23Z   \n",
       "\n",
       "        appointment_day  age      neighbourhood  scholarship  hypertension  \\\n",
       "0  2016-04-29T00:00:00Z   62    JARDIM DA PENHA            0             1   \n",
       "1  2016-04-29T00:00:00Z   56    JARDIM DA PENHA            0             0   \n",
       "2  2016-04-29T00:00:00Z   62      MATA DA PRAIA            0             0   \n",
       "3  2016-04-29T00:00:00Z    8  PONTAL DE CAMBURI            0             0   \n",
       "4  2016-04-29T00:00:00Z   56    JARDIM DA PENHA            0             1   \n",
       "\n",
       "   diabetes  alcoholism  handicap  sms_received no_show  \n",
       "0         0           0         0             0      No  \n",
       "1         0           0         0             0      No  \n",
       "2         0           0         0             0      No  \n",
       "3         0           0         0             0      No  \n",
       "4         1           0         0             0      No  "
      ]
     },
     "execution_count": 71,
     "metadata": {},
     "output_type": "execute_result"
    }
   ],
   "source": [
    "#Clean and Rename columns\n",
    "df.rename(columns= lambda x: x.strip().lower().replace(\"-\",\"_\"),inplace=True)\n",
    "df.rename(columns={\"patientid\":\"patient_id\",\n",
    "                   \"appointmentid\":\"appointment_id\",\n",
    "                  \"scheduledday\":\"scheduled_day\",\n",
    "                  \"appointmentday\":\"appointment_day\",\n",
    "                  \"handcap\":\"handicap\",\n",
    "                  \"hipertension\":\"hypertension\"},\n",
    "         inplace=True)\n",
    "df.head()"
   ]
  },
  {
   "cell_type": "markdown",
   "id": "007aa004-2412-4801-b757-fc883c0631e2",
   "metadata": {},
   "source": [
    "\n",
    "I noticed that columns *\"appointment_day\"* and *\"scheduled_day\"* are \"string object\" but should be Datetime objects\n"
   ]
  },
  {
   "cell_type": "code",
   "execution_count": 72,
   "id": "2ecdfe63-6107-42d8-88eb-7bcd317077db",
   "metadata": {},
   "outputs": [],
   "source": [
    "#Changing \"scheduled_day\" and \"appointment_day\" to datetime\n",
    "df[[\"scheduled_day\",\"appointment_day\"]] = df[[\"scheduled_day\",\"appointment_day\"]].apply(lambda d : pd.to_datetime(d))"
   ]
  },
  {
   "cell_type": "markdown",
   "id": "484a832f-b911-46fe-9bdd-eae4eb9a6d31",
   "metadata": {},
   "source": [
    "Now it is time to Perform some Exploratory Data Analysis on the dataset"
   ]
  },
  {
   "cell_type": "markdown",
   "id": "652a0777-4c60-4ed7-9c0b-6961870821a3",
   "metadata": {},
   "source": [
    "<a id='eda'></a>\n",
    "## **Exploratory Data Analysis (EDA)**\n",
    "For the purpose of this analysis my dependent variable will be the variable *\"no_show\"* and I will focus on the following independent variables\n",
    "1. *neigbhourhood* - categorical data\n",
    "2. *sms_recieved* - Discrete data\n",
    "3. *alcoholism*- Numerical data\n",
    "\n",
    " \n",
    "### **Research Question 1**: ( What neighourhoods have the most and least proportion of patients that showed up for appointment?)"
   ]
  },
  {
   "cell_type": "markdown",
   "id": "6668cc32-644b-49ec-bf39-efaeff485e32",
   "metadata": {},
   "source": [
    "Let us find out the number of Neighourhood in this dataset and the distribution of Patients in our dataset across this neighbourhoods"
   ]
  },
  {
   "cell_type": "code",
   "execution_count": 73,
   "id": "08b6bb3a-e44b-4700-9f4e-193833718488",
   "metadata": {},
   "outputs": [
    {
     "data": {
      "text/plain": [
       "81"
      ]
     },
     "execution_count": 73,
     "metadata": {},
     "output_type": "execute_result"
    }
   ],
   "source": [
    "# No of unique neighbourhood in df\n",
    "df[\"neighbourhood\"].nunique()"
   ]
  },
  {
   "cell_type": "markdown",
   "id": "baf8c92b-fe7f-40c7-8349-6b94ae97dd31",
   "metadata": {},
   "source": [
    "There are **81** Unique Neighbourhoods in our datatset "
   ]
  },
  {
   "cell_type": "code",
   "execution_count": 74,
   "id": "7d21a1d3-2e1e-4110-a175-fa5cc493cc68",
   "metadata": {},
   "outputs": [
    {
     "name": "stdout",
     "output_type": "stream",
     "text": [
      "JARDIM CAMBURI       7717\n",
      "MARIA ORTIZ          5805\n",
      "RESISTÊNCIA          4431\n",
      "JARDIM DA PENHA      3877\n",
      "ITARARÉ              3514\n",
      "CENTRO               3334\n",
      "TABUAZEIRO           3132\n",
      "SANTA MARTHA         3131\n",
      "JESUS DE NAZARETH    2853\n",
      "BONFIM               2773\n",
      "Name: neighbourhood, dtype: int64\n",
      "\n",
      "JARDIM CAMBURI    7717\n",
      "MARIA ORTIZ       5805\n",
      "Name: neighbourhood, dtype: int64\n",
      "\n",
      "ILHAS OCEÂNICAS DE TRINDADE    2\n",
      "PARQUE INDUSTRIAL              1\n",
      "Name: neighbourhood, dtype: int64\n"
     ]
    }
   ],
   "source": [
    "#Dsitribution of patients across the neighbourhoods\n",
    "print(df[\"neighbourhood\"].value_counts().head(10))\n",
    "print()\n",
    "print(df[\"neighbourhood\"].value_counts().head(2))\n",
    "print()\n",
    "print(df[\"neighbourhood\"].value_counts().tail(2))"
   ]
  },
  {
   "cell_type": "markdown",
   "id": "d56adfbc-5126-48e7-ac6e-39bcbcaa9e09",
   "metadata": {},
   "source": [
    "We can see that neighbourhoods \"**JARDIM CAMBURI\"** and \"**MARIA ORTIZ**\" are the most represented in our dataset while \"**ILHAS OCEÂNICAS DE TRINDADE**\" and \"**PARQUE INDUSTRIAL**\" are the least represented.\n",
    "\n",
    "Let us visualize it.\n"
   ]
  },
  {
   "cell_type": "code",
   "execution_count": 75,
   "id": "31cc6d20-4753-4924-9b71-c7374496457f",
   "metadata": {},
   "outputs": [
    {
     "data": {
      "image/png": "[encoded data removed]",
      "text/plain": [
       "<Figure size 1152x432 with 1 Axes>"
      ]
     },
     "metadata": {
      "needs_background": "light"
     },
     "output_type": "display_data"
    }
   ],
   "source": [
    "fig,ax = plt.subplots(figsize=(16,6))\n",
    "plt.xticks(rotation=90)\n",
    "sns.countplot(x=np.sort(df[\"neighbourhood\"]),ax=ax)\n",
    "plt.title(\"Count of Neighbourhoods in our dataset\");"
   ]
  },
  {
   "cell_type": "markdown",
   "id": "648f8769-483f-481a-aaa0-9d5ac67ea6e5",
   "metadata": {},
   "source": [
    "Now let us check for the proportion of patients from each neighourhood that showed up for their appointment\n",
    "\n",
    "First, I want to change the encoding of our dependent variable *\"no_show\"* such that \"No\" will be encoded as $0$ and \"Yes\" will be encoded as $1$"
   ]
  },
  {
   "cell_type": "code",
   "execution_count": 76,
   "id": "e911f49b-0485-44c6-9453-f6abcee5a3fc",
   "metadata": {},
   "outputs": [],
   "source": [
    "# Change \"no_show\" encoding\n",
    "df[\"no_show\"]= df[\"no_show\"].str.replace(\"No\",\"0\").str.replace(\"Yes\",\"1\").astype(int)"
   ]
  },
  {
   "cell_type": "markdown",
   "id": "131f9d13-6984-4a7c-8c95-0610b59f6b59",
   "metadata": {},
   "source": [
    "Next, I want to create a pivot table to show the different neighbourhoods in our dataset and the proportion of patients that did not show up"
   ]
  },
  {
   "cell_type": "code",
   "execution_count": 77,
   "id": "be242fc7-023d-4e8f-bc42-751f6dbe03bd",
   "metadata": {},
   "outputs": [
    {
     "data": {
      "text/html": [
       "<div>\n",
       "<style scoped>\n",
       "    .dataframe tbody tr th:only-of-type {\n",
       "        vertical-align: middle;\n",
       "    }\n",
       "\n",
       "    .dataframe tbody tr th {\n",
       "        vertical-align: top;\n",
       "    }\n",
       "\n",
       "    .dataframe thead th {\n",
       "        text-align: right;\n",
       "    }\n",
       "</style>\n",
       "<table border=\"1\" class=\"dataframe\">\n",
       "  <thead>\n",
       "    <tr style=\"text-align: right;\">\n",
       "      <th></th>\n",
       "      <th>no_show</th>\n",
       "    </tr>\n",
       "    <tr>\n",
       "      <th>neighbourhood</th>\n",
       "      <th></th>\n",
       "    </tr>\n",
       "  </thead>\n",
       "  <tbody>\n",
       "    <tr>\n",
       "      <th>PARQUE INDUSTRIAL</th>\n",
       "      <td>0.000000</td>\n",
       "    </tr>\n",
       "    <tr>\n",
       "      <th>ILHA DO BOI</th>\n",
       "      <td>0.085714</td>\n",
       "    </tr>\n",
       "    <tr>\n",
       "      <th>AEROPORTO</th>\n",
       "      <td>0.125000</td>\n",
       "    </tr>\n",
       "    <tr>\n",
       "      <th>MÁRIO CYPRESTE</th>\n",
       "      <td>0.145553</td>\n",
       "    </tr>\n",
       "    <tr>\n",
       "      <th>SOLON BORGES</th>\n",
       "      <td>0.147122</td>\n",
       "    </tr>\n",
       "    <tr>\n",
       "      <th>...</th>\n",
       "      <td>...</td>\n",
       "    </tr>\n",
       "    <tr>\n",
       "      <th>ITARARÉ</th>\n",
       "      <td>0.262664</td>\n",
       "    </tr>\n",
       "    <tr>\n",
       "      <th>SANTA CLARA</th>\n",
       "      <td>0.264822</td>\n",
       "    </tr>\n",
       "    <tr>\n",
       "      <th>SANTA CECÍLIA</th>\n",
       "      <td>0.274554</td>\n",
       "    </tr>\n",
       "    <tr>\n",
       "      <th>SANTOS DUMONT</th>\n",
       "      <td>0.289185</td>\n",
       "    </tr>\n",
       "    <tr>\n",
       "      <th>ILHAS OCEÂNICAS DE TRINDADE</th>\n",
       "      <td>1.000000</td>\n",
       "    </tr>\n",
       "  </tbody>\n",
       "</table>\n",
       "<p>81 rows × 1 columns</p>\n",
       "</div>"
      ],
      "text/plain": [
       "                              no_show\n",
       "neighbourhood                        \n",
       "PARQUE INDUSTRIAL            0.000000\n",
       "ILHA DO BOI                  0.085714\n",
       "AEROPORTO                    0.125000\n",
       "MÁRIO CYPRESTE               0.145553\n",
       "SOLON BORGES                 0.147122\n",
       "...                               ...\n",
       "ITARARÉ                      0.262664\n",
       "SANTA CLARA                  0.264822\n",
       "SANTA CECÍLIA                0.274554\n",
       "SANTOS DUMONT                0.289185\n",
       "ILHAS OCEÂNICAS DE TRINDADE  1.000000\n",
       "\n",
       "[81 rows x 1 columns]"
      ]
     },
     "execution_count": 77,
     "metadata": {},
     "output_type": "execute_result"
    }
   ],
   "source": [
    "neighbourhood_pivot = pd.pivot_table(\n",
    "    df,index=\"neighbourhood\",\n",
    "    values=\"no_show\",\n",
    "    aggfunc= np.mean).sort_values(by=\"no_show\")\n",
    "neighbourhood_pivot"
   ]
  },
  {
   "cell_type": "code",
   "execution_count": 78,
   "id": "daa93193-1e4c-4670-b585-485e9eff102b",
   "metadata": {},
   "outputs": [
    {
     "data": {
      "text/html": [
       "<div>\n",
       "<style scoped>\n",
       "    .dataframe tbody tr th:only-of-type {\n",
       "        vertical-align: middle;\n",
       "    }\n",
       "\n",
       "    .dataframe tbody tr th {\n",
       "        vertical-align: top;\n",
       "    }\n",
       "\n",
       "    .dataframe thead th {\n",
       "        text-align: right;\n",
       "    }\n",
       "</style>\n",
       "<table border=\"1\" class=\"dataframe\">\n",
       "  <thead>\n",
       "    <tr style=\"text-align: right;\">\n",
       "      <th></th>\n",
       "      <th>no_show</th>\n",
       "    </tr>\n",
       "    <tr>\n",
       "      <th>neighbourhood</th>\n",
       "      <th></th>\n",
       "    </tr>\n",
       "  </thead>\n",
       "  <tbody>\n",
       "    <tr>\n",
       "      <th>PARQUE INDUSTRIAL</th>\n",
       "      <td>0.000000</td>\n",
       "    </tr>\n",
       "    <tr>\n",
       "      <th>ILHA DO BOI</th>\n",
       "      <td>0.085714</td>\n",
       "    </tr>\n",
       "    <tr>\n",
       "      <th>AEROPORTO</th>\n",
       "      <td>0.125000</td>\n",
       "    </tr>\n",
       "    <tr>\n",
       "      <th>MÁRIO CYPRESTE</th>\n",
       "      <td>0.145553</td>\n",
       "    </tr>\n",
       "    <tr>\n",
       "      <th>SOLON BORGES</th>\n",
       "      <td>0.147122</td>\n",
       "    </tr>\n",
       "    <tr>\n",
       "      <th>DE LOURDES</th>\n",
       "      <td>0.154098</td>\n",
       "    </tr>\n",
       "    <tr>\n",
       "      <th>DO CABRAL</th>\n",
       "      <td>0.157143</td>\n",
       "    </tr>\n",
       "    <tr>\n",
       "      <th>SANTA MARTHA</th>\n",
       "      <td>0.158416</td>\n",
       "    </tr>\n",
       "    <tr>\n",
       "      <th>JARDIM DA PENHA</th>\n",
       "      <td>0.162755</td>\n",
       "    </tr>\n",
       "    <tr>\n",
       "      <th>DO QUADRO</th>\n",
       "      <td>0.164900</td>\n",
       "    </tr>\n",
       "  </tbody>\n",
       "</table>\n",
       "</div>"
      ],
      "text/plain": [
       "                    no_show\n",
       "neighbourhood              \n",
       "PARQUE INDUSTRIAL  0.000000\n",
       "ILHA DO BOI        0.085714\n",
       "AEROPORTO          0.125000\n",
       "MÁRIO CYPRESTE     0.145553\n",
       "SOLON BORGES       0.147122\n",
       "DE LOURDES         0.154098\n",
       "DO CABRAL          0.157143\n",
       "SANTA MARTHA       0.158416\n",
       "JARDIM DA PENHA    0.162755\n",
       "DO QUADRO          0.164900"
      ]
     },
     "execution_count": 78,
     "metadata": {},
     "output_type": "execute_result"
    }
   ],
   "source": [
    "#Top ten neigbourhood in terms of proportion that showed up i.e no_show == 0\n",
    "most_show_up= neighbourhood_pivot.head(10)\n",
    "most_show_up"
   ]
  },
  {
   "cell_type": "code",
   "execution_count": 79,
   "id": "6e0404e9-9be3-467e-9630-79a59a11a3da",
   "metadata": {},
   "outputs": [
    {
     "data": {
      "text/html": [
       "<div>\n",
       "<style scoped>\n",
       "    .dataframe tbody tr th:only-of-type {\n",
       "        vertical-align: middle;\n",
       "    }\n",
       "\n",
       "    .dataframe tbody tr th {\n",
       "        vertical-align: top;\n",
       "    }\n",
       "\n",
       "    .dataframe thead th {\n",
       "        text-align: right;\n",
       "    }\n",
       "</style>\n",
       "<table border=\"1\" class=\"dataframe\">\n",
       "  <thead>\n",
       "    <tr style=\"text-align: right;\">\n",
       "      <th></th>\n",
       "      <th>no_show</th>\n",
       "    </tr>\n",
       "    <tr>\n",
       "      <th>neighbourhood</th>\n",
       "      <th></th>\n",
       "    </tr>\n",
       "  </thead>\n",
       "  <tbody>\n",
       "    <tr>\n",
       "      <th>ANDORINHAS</th>\n",
       "      <td>0.230327</td>\n",
       "    </tr>\n",
       "    <tr>\n",
       "      <th>CARATOÍRA</th>\n",
       "      <td>0.230409</td>\n",
       "    </tr>\n",
       "    <tr>\n",
       "      <th>ILHA DO PRÍNCIPE</th>\n",
       "      <td>0.234775</td>\n",
       "    </tr>\n",
       "    <tr>\n",
       "      <th>HORTO</th>\n",
       "      <td>0.240000</td>\n",
       "    </tr>\n",
       "    <tr>\n",
       "      <th>JESUS DE NAZARETH</th>\n",
       "      <td>0.243954</td>\n",
       "    </tr>\n",
       "    <tr>\n",
       "      <th>ITARARÉ</th>\n",
       "      <td>0.262664</td>\n",
       "    </tr>\n",
       "    <tr>\n",
       "      <th>SANTA CLARA</th>\n",
       "      <td>0.264822</td>\n",
       "    </tr>\n",
       "    <tr>\n",
       "      <th>SANTA CECÍLIA</th>\n",
       "      <td>0.274554</td>\n",
       "    </tr>\n",
       "    <tr>\n",
       "      <th>SANTOS DUMONT</th>\n",
       "      <td>0.289185</td>\n",
       "    </tr>\n",
       "    <tr>\n",
       "      <th>ILHAS OCEÂNICAS DE TRINDADE</th>\n",
       "      <td>1.000000</td>\n",
       "    </tr>\n",
       "  </tbody>\n",
       "</table>\n",
       "</div>"
      ],
      "text/plain": [
       "                              no_show\n",
       "neighbourhood                        \n",
       "ANDORINHAS                   0.230327\n",
       "CARATOÍRA                    0.230409\n",
       "ILHA DO PRÍNCIPE             0.234775\n",
       "HORTO                        0.240000\n",
       "JESUS DE NAZARETH            0.243954\n",
       "ITARARÉ                      0.262664\n",
       "SANTA CLARA                  0.264822\n",
       "SANTA CECÍLIA                0.274554\n",
       "SANTOS DUMONT                0.289185\n",
       "ILHAS OCEÂNICAS DE TRINDADE  1.000000"
      ]
     },
     "execution_count": 79,
     "metadata": {},
     "output_type": "execute_result"
    }
   ],
   "source": [
    "#Top ten neigbourhood in terms of proportion that did not show up i.e no_show==1\n",
    "least_show_up= neighbourhood_pivot.tail(10)\n",
    "least_show_up"
   ]
  },
  {
   "cell_type": "markdown",
   "id": "cfcece68-ad36-45fc-97d8-2e9ea6a1fed2",
   "metadata": {},
   "source": [
    "Now let us Visualize it.\n",
    "\n",
    "To do this I want to create a function to plot horizontal bar charts."
   ]
  },
  {
   "cell_type": "code",
   "execution_count": 80,
   "id": "59df1890-254b-4d4c-8785-89212c4d3fcb",
   "metadata": {},
   "outputs": [],
   "source": [
    "def plot_barh(df):\n",
    "    \"\"\"Takes in one parameter: df\n",
    "    and returns a horizontal bar plot\n",
    "    \n",
    "        Parameters:\n",
    "            df: DataFrame containing the data to be plotted\n",
    "        Returns:\n",
    "            A horizontal bar plot\n",
    "    \"\"\"\n",
    "    fig,ax= plt.subplots(figsize=(13,6))\n",
    "    plot = df.plot.barh(ax=ax,legend=\"None\")\n",
    "    return plot"
   ]
  },
  {
   "cell_type": "markdown",
   "id": "f2f15c0c-845c-4fd0-a03f-11b1d63bbbaf",
   "metadata": {},
   "source": [
    "Now, let us use our plot_barh function to Visualize our *most_show_up and \"least_show_up\"* DataFrames"
   ]
  },
  {
   "cell_type": "code",
   "execution_count": 81,
   "id": "e5f6fcb8-1fb5-43e8-8010-795107e32d98",
   "metadata": {},
   "outputs": [
    {
     "data": {
      "image/png": "[encoded data removed]",
      "text/plain": [
       "<Figure size 936x432 with 1 Axes>"
      ]
     },
     "metadata": {
      "needs_background": "light"
     },
     "output_type": "display_data"
    }
   ],
   "source": [
    "# plot most_show_up\n",
    "plot_barh(most_show_up)\n",
    "plt.ylabel(\"Neighbourhood\")\n",
    "plt.xlabel(\"Frequency\")\n",
    "plt.title(\"Freqeuncy of Patients that did not show up by Neighbourhood\");"
   ]
  },
  {
   "cell_type": "markdown",
   "id": "3e9dfd3d-d5ac-4f81-8ae6-e964adbe654c",
   "metadata": {},
   "source": [
    "This shows us that patients living in **\"PARQUE INDUSTRIAL\",\"ILHA DO BOI\",\"AEROPORTO\"** ETC showed up more for their appointments"
   ]
  },
  {
   "cell_type": "code",
   "execution_count": 82,
   "id": "16e0a1a7-6b5b-4916-9f41-9b4654908418",
   "metadata": {},
   "outputs": [
    {
     "data": {
      "image/png": "[encoded data removed]",
      "text/plain": [
       "<Figure size 936x432 with 1 Axes>"
      ]
     },
     "metadata": {
      "needs_background": "light"
     },
     "output_type": "display_data"
    }
   ],
   "source": [
    "# Plot least_show_up\n",
    "plot_barh(least_show_up)\n",
    "plt.ylabel(\"Neighbourhood\")\n",
    "plt.xlabel(\"Frequency\")\n",
    "plt.title(\"Freqeuncy of Patients that did not show up by Neighbourhood\");"
   ]
  },
  {
   "cell_type": "markdown",
   "id": "1075d016-95bd-4c20-ad35-f7b5a2cb7b65",
   "metadata": {},
   "source": [
    "This shows that Patients living in **\"ILHAS OCEÂNICAS DE TRINDADE\",\"SANTOS DUMONT\" and \"SANTA CLARA\"** has the least proportion of apperance for their appointment "
   ]
  },
  {
   "cell_type": "markdown",
   "id": "116a423b-c3bb-48e8-8aa7-6fc3b89ceaf2",
   "metadata": {},
   "source": [
    "### **Research Question 2**: (Was SMS recieved a major factor to patients showing up or not showing up for their appointment?)\n",
    "\n",
    "\n",
    "First let me remove the encoding on \"*no_show*\" from the previous EDA"
   ]
  },
  {
   "cell_type": "code",
   "execution_count": 83,
   "id": "09ce61f3-b535-4f9e-9771-0c8f113b8db9",
   "metadata": {},
   "outputs": [],
   "source": [
    "# Remove \"no_show\" encoding \n",
    "encode_dict = {\n",
    "    0:\"No\",\n",
    "    1: \"Yes\"\n",
    "}\n",
    "df[\"no_show\"].replace(encode_dict,inplace=True)"
   ]
  },
  {
   "cell_type": "markdown",
   "id": "f36a06b9-a0dc-43b9-abfc-42903a7ae701",
   "metadata": {},
   "source": [
    "Then, let us check the ratio of patients that recieved sms to that of those that did not recieve sms"
   ]
  },
  {
   "cell_type": "code",
   "execution_count": 84,
   "id": "546c4dc5-61e2-4c69-9e5d-4a25d957cdf0",
   "metadata": {},
   "outputs": [
    {
     "name": "stdout",
     "output_type": "stream",
     "text": [
      "0    0.678974\n",
      "1    0.321026\n",
      "Name: sms_received, dtype: float64\n"
     ]
    },
    {
     "data": {
      "image/png": "[encoded data removed]",
      "text/plain": [
       "<Figure size 1080x432 with 1 Axes>"
      ]
     },
     "metadata": {},
     "output_type": "display_data"
    }
   ],
   "source": [
    "# Check \"sms_recieved\" ratio\n",
    "print(df[\"sms_received\"].value_counts(normalize=True))\n",
    "#plot ratio\n",
    "fig,ax = plt.subplots(figsize=(15,6))\n",
    "df[\"sms_received\"].value_counts(normalize=True).plot.pie(labels=[\"No_SMS\",\"Received_SMS\"],ax=ax)\n",
    "plt.title(\"Proportion of patients that recieved sms\");"
   ]
  },
  {
   "cell_type": "markdown",
   "id": "b85a0e02-0887-46d0-b009-93328d5249a0",
   "metadata": {},
   "source": [
    "We can see that over **68%** of patients in this dataset did not recieve SMS"
   ]
  },
  {
   "cell_type": "markdown",
   "id": "0a1592af-6595-46c2-82e7-f0cc8ad5ede5",
   "metadata": {},
   "source": [
    "Now, let us create a side-by-side count plot visualization using seaborn to see relationship between our *\"sms_received\"* column and \"no_show\" column\n",
    "\n",
    "To do this I want to create a function named \"*plot_countplot*\""
   ]
  },
  {
   "cell_type": "code",
   "execution_count": 85,
   "id": "efb396ed-c545-4b92-b0eb-e393530a44aa",
   "metadata": {},
   "outputs": [],
   "source": [
    "#Create \"plot_countplot\" function\n",
    "def plot_countplot(col_name,hue_col):\n",
    "    \"\"\"Takes in two parameters:\"col_name\",\"hue_col\"\n",
    "    and returns a side by side countplot\n",
    "    \n",
    "        Parameters:\n",
    "            col_name(str): column for plotting\n",
    "            hue_col(str): column for hue\n",
    "        Returns:\n",
    "            A seaborn countplot\n",
    "    \"\"\"\n",
    "    fig,ax= plt.subplots(figsize=(10,6))\n",
    "    fig =sns.countplot(x= col_name, hue=hue_col, data=df,ax=ax)\n",
    "    return fig\n",
    "    "
   ]
  },
  {
   "cell_type": "markdown",
   "id": "9eae9b69-7d84-4e01-8af9-fa7f7ca6d6e1",
   "metadata": {},
   "source": [
    "Now that I have created my function for plotting, Let's explore the relationship"
   ]
  },
  {
   "cell_type": "code",
   "execution_count": 86,
   "id": "5ca33ecd-f7f8-4e5a-892f-c702d305e0f0",
   "metadata": {},
   "outputs": [
    {
     "data": {
      "image/png": "[encoded data removed]",
      "text/plain": [
       "<Figure size 720x432 with 1 Axes>"
      ]
     },
     "metadata": {
      "needs_background": "light"
     },
     "output_type": "display_data"
    }
   ],
   "source": [
    "# Explore relationship between \"sms_received\" and \"no_show\"\n",
    "fig = plot_countplot(\"sms_received\",\"no_show\")\n",
    "fig.set_xticklabels([\"No_SMS\",\"Recieved_SMS\"])\n",
    "plt.title(\"Sms Received Distribution\");"
   ]
  },
  {
   "cell_type": "markdown",
   "id": "1c3f7059-d14d-402e-8e9c-e4082fc7dee1",
   "metadata": {},
   "source": [
    "This is an interesting plot usually we should expect patients who recieved **SMS** to show up more than those who did not but it does not seem to be the case here \n",
    "Let us check out the actual figures to support this knowledge"
   ]
  },
  {
   "cell_type": "markdown",
   "id": "452f645e-c4c2-4a75-b6a6-1e254186f6f1",
   "metadata": {},
   "source": [
    "First I will start by creating two different DataFrames: *df_sms* for patients that recieved sms encoded as *\"sms_recieved\"== 1* and *df_no_sms* for patients that did not receive sms encoded as *\"sms_recieved\"== 0*"
   ]
  },
  {
   "cell_type": "code",
   "execution_count": 87,
   "id": "2dcfa584-c22e-4ea8-b240-f417e052f951",
   "metadata": {},
   "outputs": [
    {
     "data": {
      "text/plain": [
       "11    1\n",
       "15    1\n",
       "Name: sms_received, dtype: int64"
      ]
     },
     "execution_count": 87,
     "metadata": {},
     "output_type": "execute_result"
    }
   ],
   "source": [
    "# Create df_sms mask\n",
    "mask = df[\"sms_received\"]== 1\n",
    "\n",
    "#create df_sms\n",
    "df_sms = df[mask]\n",
    "\n",
    "# Check df_sms\n",
    "df_sms[\"sms_received\"].head(2)"
   ]
  },
  {
   "cell_type": "code",
   "execution_count": 88,
   "id": "ac81135f-6364-446c-b4b7-5ecca37103a8",
   "metadata": {},
   "outputs": [
    {
     "data": {
      "text/plain": [
       "0    0\n",
       "1    0\n",
       "Name: sms_received, dtype: int64"
      ]
     },
     "execution_count": 88,
     "metadata": {},
     "output_type": "execute_result"
    }
   ],
   "source": [
    "# Create df_no_sms mask\n",
    "mask = df[\"sms_received\"]== 0\n",
    "\n",
    "# Create df_no_sms\n",
    "df_no_sms = df[mask]\n",
    "\n",
    "# Check df_no_sms\n",
    "df_no_sms[\"sms_received\"].head(2)"
   ]
  },
  {
   "cell_type": "markdown",
   "id": "c1da41be-f8c5-4986-be6d-666ac046fbdf",
   "metadata": {},
   "source": [
    "Now let us check for the proportion of *\"no_show\"* in each of our DataFrames  \n"
   ]
  },
  {
   "cell_type": "code",
   "execution_count": 89,
   "id": "6e2a9dc6-9e6c-47ab-851a-158d02bcc14b",
   "metadata": {},
   "outputs": [
    {
     "data": {
      "text/plain": [
       "No     0.832967\n",
       "Yes    0.167033\n",
       "Name: no_show, dtype: float64"
      ]
     },
     "execution_count": 89,
     "metadata": {},
     "output_type": "execute_result"
    }
   ],
   "source": [
    "# Check proportion for df_no_sms\n",
    "df_no_sms[\"no_show\"].value_counts(normalize=True)"
   ]
  },
  {
   "cell_type": "code",
   "execution_count": 90,
   "id": "77ec6568-bd25-4e31-8aab-dbe082649bb7",
   "metadata": {},
   "outputs": [
    {
     "data": {
      "text/plain": [
       "No     0.724255\n",
       "Yes    0.275745\n",
       "Name: no_show, dtype: float64"
      ]
     },
     "execution_count": 90,
     "metadata": {},
     "output_type": "execute_result"
    }
   ],
   "source": [
    "# Check proportion for df_sms\n",
    "df_sms[\"no_show\"].value_counts(normalize=True)"
   ]
  },
  {
   "cell_type": "markdown",
   "id": "de321e8d-e8bf-42e6-b839-cc883695d26d",
   "metadata": {},
   "source": [
    "This supports our assumption from the visualization, For patients that Recieved SMS, only just about **72%** of them showed up for their appointments while for patients that did not recieve SMS, well over **83%** of them showed up for their appointment"
   ]
  },
  {
   "cell_type": "markdown",
   "id": "deeba5ac-853e-455f-b6d1-f0262d7ff4bd",
   "metadata": {},
   "source": [
    "### **Research Question 3**: (Did Patients who are addicted to Alcohol miss their appointment more than others?)"
   ]
  },
  {
   "cell_type": "markdown",
   "id": "75adcdf8-48a7-4e35-99b9-e1ee9ff0dbce",
   "metadata": {},
   "source": [
    "Let us start with checking and visualizing the ratio of the patients who suffer from Alcoholism to those who do not suffer from Alcoholism"
   ]
  },
  {
   "cell_type": "code",
   "execution_count": 91,
   "id": "9ff37fe4-4311-429c-8bdf-f42c37192eea",
   "metadata": {},
   "outputs": [
    {
     "name": "stdout",
     "output_type": "stream",
     "text": [
      "0    0.9696\n",
      "1    0.0304\n",
      "Name: alcoholism, dtype: float64\n"
     ]
    },
    {
     "data": {
      "image/png": "[encoded data removed]",
      "text/plain": [
       "<Figure size 1080x432 with 1 Axes>"
      ]
     },
     "metadata": {},
     "output_type": "display_data"
    }
   ],
   "source": [
    "alcohol_ratio = df[\"alcoholism\"].value_counts(normalize=True)\n",
    "print(alcohol_ratio)\n",
    "# Plot composition of \"alcoholism\"\n",
    "fig,ax= plt.subplots(figsize=(15,6))\n",
    "labels=[\"no_alcoholism\",\"alcoholism\"]\n",
    "alcohol_ratio.plot.pie(ax=ax)\n",
    "plt.legend(labels, loc= 0)\n",
    "plt.title(\"Alcoholism Ratio in Patients\");"
   ]
  },
  {
   "cell_type": "markdown",
   "id": "33a8eac1-f8e5-4d7b-a641-c6243e81cfd6",
   "metadata": {},
   "source": [
    "Only about **3%** of our patients suffer from Alcoholism"
   ]
  },
  {
   "cell_type": "markdown",
   "id": "a515c670-14c9-40dc-addd-ffb9ac8a426a",
   "metadata": {},
   "source": [
    "Again, just like I did in the previous research question, I would use the \"plot_countplot\" function to create side-by-side countplot visualization of the relationship between \"*alcoholism*\" and \"*no_show\" columns"
   ]
  },
  {
   "cell_type": "code",
   "execution_count": 92,
   "id": "2246d251-1e92-4233-a2ca-ae334df1b4bb",
   "metadata": {},
   "outputs": [
    {
     "data": {
      "image/png": "[encoded data removed]",
      "text/plain": [
       "<Figure size 720x432 with 1 Axes>"
      ]
     },
     "metadata": {
      "needs_background": "light"
     },
     "output_type": "display_data"
    }
   ],
   "source": [
    "fig= plot_countplot(\"alcoholism\",\"no_show\")\n",
    "fig.set_xticklabels([\"None Alcoholic\",\"Alcoholic\"])\n",
    "plt.title(\"Alcoholic Vs Non Alcohlic Distribution\");"
   ]
  },
  {
   "cell_type": "markdown",
   "id": "36ce5a91-f795-4ec5-b451-221e0b04fc56",
   "metadata": {},
   "source": [
    "The above Chart does not give me any assmuptions that could make some headway to answer so let us check out the statistics instead"
   ]
  },
  {
   "cell_type": "markdown",
   "id": "35446959-5107-4964-9801-3e6af1bb602f",
   "metadata": {},
   "source": [
    "For this I would create two DataFrames (*df_alcohol and df_non_alcohol*) for patients who suffer from alcoholism i.e \"*alcoholism*\"==1 and patients who do not suffer from alcoholism i.e \"*alcoholism*\"==0"
   ]
  },
  {
   "cell_type": "code",
   "execution_count": 93,
   "id": "501fe042-0706-47ab-abbb-dd75ae18899a",
   "metadata": {},
   "outputs": [
    {
     "data": {
      "text/plain": [
       "(3360, 14)"
      ]
     },
     "execution_count": 93,
     "metadata": {},
     "output_type": "execute_result"
    }
   ],
   "source": [
    "# Create df_alcohol mask\n",
    "mask = df[\"alcoholism\"]==1\n",
    "\n",
    "# Create df_alcohol\n",
    "df_alcohol = df[mask]\n",
    "df_alcohol.shape"
   ]
  },
  {
   "cell_type": "code",
   "execution_count": 94,
   "id": "afb9198a-bc19-410e-8101-b1f9a7c151c0",
   "metadata": {},
   "outputs": [
    {
     "data": {
      "text/plain": [
       "(107167, 14)"
      ]
     },
     "execution_count": 94,
     "metadata": {},
     "output_type": "execute_result"
    }
   ],
   "source": [
    "# Create df_non_alcohol mask\n",
    "mask = df[\"alcoholism\"]==0\n",
    "\n",
    "# Create df_non_alcohol\n",
    "df_non_alcohol = df[mask]\n",
    "df_non_alcohol.shape"
   ]
  },
  {
   "cell_type": "markdown",
   "id": "278e4ad1-375c-43b0-b1bb-1f5364436814",
   "metadata": {},
   "source": [
    "Now let us check for the proportion of *\"no_show\"* in each of our DataFrames"
   ]
  },
  {
   "cell_type": "code",
   "execution_count": 95,
   "id": "444892ee-dbef-465b-9955-cd6acf82a51a",
   "metadata": {},
   "outputs": [
    {
     "data": {
      "text/plain": [
       "No     0.798054\n",
       "Yes    0.201946\n",
       "Name: no_show, dtype: float64"
      ]
     },
     "execution_count": 95,
     "metadata": {},
     "output_type": "execute_result"
    }
   ],
   "source": [
    "df_non_alcohol[\"no_show\"].value_counts(normalize=True)"
   ]
  },
  {
   "cell_type": "code",
   "execution_count": 96,
   "id": "1183fadf-2db0-40cb-8607-5b54024450dd",
   "metadata": {},
   "outputs": [
    {
     "data": {
      "text/plain": [
       "No     0.798512\n",
       "Yes    0.201488\n",
       "Name: no_show, dtype: float64"
      ]
     },
     "execution_count": 96,
     "metadata": {},
     "output_type": "execute_result"
    }
   ],
   "source": [
    "df_alcohol[\"no_show\"].value_counts(normalize=True)"
   ]
  },
  {
   "cell_type": "markdown",
   "id": "e75da5fa-3df6-49e2-b77b-d1be8a2c5d1d",
   "metadata": {},
   "source": [
    "It seems like over **80%** of patients with alcoholism and also over **80%** of patients without alcoholism showed up for their appointments. "
   ]
  },
  {
   "cell_type": "markdown",
   "id": "47841a6b-7e75-4110-986c-162b1295ad52",
   "metadata": {},
   "source": [
    "<a id='conclusions'></a>\n",
    "## Conclusions"
   ]
  },
  {
   "cell_type": "markdown",
   "id": "3ccf164e-fffa-4195-8fb6-427cd3a3f6cd",
   "metadata": {},
   "source": [
    "**1**. For Research Question 1, We can see that patients living in \"**ILHA DO BOI**\" and \"**AEROPORTO**\" showed up more for their appointments with only about **9%** and **13%** of them not showing up for appointment respectively.\n",
    "In contrast with over **20%** of the entire dataset that did not show up for their appoinments.\n",
    "\n",
    "On the Contrary, neighbourhoods \"**SANTOS DUMONT**\" and \"**SANTA CLARA**\" have the highest proportion of patients who did not show up for their appointments with over **29%** and **27%** of patients living in those neighbourhoods not ahowing up respectively.\n",
    "\n",
    "Neigbourhoods \"**ILHAS OCEÂNICAS DE TRINDADE\" AND \"PARQUE INDUSTRIAL\"** both appeared only **3** times in the entire dataset so their outcomes in this analysis exhibited outlier behaviours."
   ]
  },
  {
   "cell_type": "markdown",
   "id": "dc5bb755-b2a0-4a54-84b4-5050a44af90d",
   "metadata": {},
   "source": [
    "**2**. For Research Question 2, it seems that contrary to what I would have assumed SMS received seems to have been a negative factor as to whether a patient showed up for appointment\n",
    "Or that SMS recieved has no influence on whether or not the patients show up for appointment\n",
    "That is infact a **Limitation** of this study as I did not check for any correlation between the \"*sms_recieved\"* and *\"no_show*\" variables"
   ]
  },
  {
   "cell_type": "markdown",
   "id": "7d3a6e06-cfe5-474a-9162-e009eaa6fe7e",
   "metadata": {},
   "source": [
    "**3**. For Research Question 3, From over 3,000 patients who suffer from alcoholism, over **80%** of them showed up for appointment,which is almost the same proportion with that of the patients who do not suffer from alcoholism.\n",
    "So, we can infer from this dataset that patients who suffer from alcoholism did not statistically miss appointment more than those that do not."
   ]
  }
 ],
 "metadata": {
  "kernelspec": {
   "display_name": "Python 3 (ipykernel)",
   "language": "python",
   "name": "python3"
  },
  "language_info": {
   "codemirror_mode": {
    "name": "ipython",
    "version": 3
   },
   "file_extension": ".py",
   "mimetype": "text/x-python",
   "name": "python",
   "nbconvert_exporter": "python",
   "pygments_lexer": "ipython3",
   "version": "3.9.12"
  }
 },
 "nbformat": 4,
 "nbformat_minor": 5
}
